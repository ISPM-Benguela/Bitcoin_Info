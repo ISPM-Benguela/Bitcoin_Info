{
 "cells": [
  {
   "cell_type": "code",
   "execution_count": 17,
   "metadata": {},
   "outputs": [
    {
     "name": "stdout",
     "output_type": "stream",
     "text": [
      "200\n"
     ]
    }
   ],
   "source": [
    "import requests\n",
    "import json\n",
    "import pandas as pd\n",
    "\n",
    "url = 'https://api.blinktrade.com/api/v1/BRL/ticker?crypto_currency=BTC'\n",
    "\n",
    "response = requests.get(url)\n",
    "\n",
    "# Testando o link : 200 OK\n",
    "print(response.status_code)"
   ]
  },
  {
   "cell_type": "markdown",
   "metadata": {},
   "source": [
    "# Importar os dados no formato json"
   ]
  },
  {
   "cell_type": "code",
   "execution_count": 9,
   "metadata": {},
   "outputs": [
    {
     "name": "stdout",
     "output_type": "stream",
     "text": [
      "b'{\"high\": 53600.0, \"vol\": 521.69925882, \"buy\": 53420.0, \"last\": 53591.19, \"low\": 50256.0, \"pair\": \"BTCBRL\", \"sell\": 53591.19, \"vol_brl\": 26901129.74383507}'\n"
     ]
    }
   ],
   "source": [
    "# Observamos os dados se existem\n",
    "print(response.content)"
   ]
  },
  {
   "cell_type": "markdown",
   "metadata": {},
   "source": [
    "# trabalhando com o formato json"
   ]
  },
  {
   "cell_type": "code",
   "execution_count": 12,
   "metadata": {},
   "outputs": [
    {
     "data": {
      "text/plain": [
       "'{\"high\": 53600.0, \"vol\": 521.69925882, \"buy\": 53420.0, \"last\": 53591.19, \"low\": 50256.0, \"pair\": \"BTCBRL\", \"sell\": 53591.19, \"vol_brl\": 26901129.74383507}'"
      ]
     },
     "execution_count": 12,
     "metadata": {},
     "output_type": "execute_result"
    }
   ],
   "source": [
    "response.content.decode(\"utf-8\")\n",
    "\n"
   ]
  },
  {
   "cell_type": "code",
   "execution_count": 13,
   "metadata": {},
   "outputs": [
    {
     "name": "stdout",
     "output_type": "stream",
     "text": [
      "{'high': 53600.0, 'vol': 521.69925882, 'buy': 53420.0, 'last': 53591.19, 'low': 50256.0, 'pair': 'BTCBRL', 'sell': 53591.19, 'vol_brl': 26901129.74383507}\n"
     ]
    }
   ],
   "source": [
    "dados = response.json()\n",
    "\n",
    "print(dados)"
   ]
  },
  {
   "cell_type": "code",
   "execution_count": 14,
   "metadata": {},
   "outputs": [
    {
     "name": "stdout",
     "output_type": "stream",
     "text": [
      "53600.0\n"
     ]
    }
   ],
   "source": [
    "# O preço mais lato\n",
    "print(dados['high'])"
   ]
  },
  {
   "cell_type": "code",
   "execution_count": 15,
   "metadata": {},
   "outputs": [
    {
     "name": "stdout",
     "output_type": "stream",
     "text": [
      "50256.0\n"
     ]
    }
   ],
   "source": [
    "# O preço mais baixo\n",
    "print(dados['low'])"
   ]
  },
  {
   "cell_type": "code",
   "execution_count": 16,
   "metadata": {},
   "outputs": [
    {
     "name": "stdout",
     "output_type": "stream",
     "text": [
      "53420.0\n"
     ]
    }
   ],
   "source": [
    "# Comprar no valor de\n",
    "print(dados['buy'])"
   ]
  },
  {
   "cell_type": "markdown",
   "metadata": {},
   "source": [
    "# Colocar numa tabela"
   ]
  },
  {
   "cell_type": "code",
   "execution_count": null,
   "metadata": {},
   "outputs": [],
   "source": []
  }
 ],
 "metadata": {
  "kernelspec": {
   "display_name": "Python 3",
   "language": "python",
   "name": "python3"
  },
  "language_info": {
   "codemirror_mode": {
    "name": "ipython",
    "version": 3
   },
   "file_extension": ".py",
   "mimetype": "text/x-python",
   "name": "python",
   "nbconvert_exporter": "python",
   "pygments_lexer": "ipython3",
   "version": "3.6.1"
  }
 },
 "nbformat": 4,
 "nbformat_minor": 2
}
